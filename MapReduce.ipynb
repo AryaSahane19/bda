{
 "cells": [
  {
   "cell_type": "code",
   "execution_count": 7,
   "id": "d22a9a6c",
   "metadata": {
    "scrolled": false
   },
   "outputs": [
    {
     "name": "stdout",
     "output_type": "stream",
     "text": [
      "mankind\t1\n",
      "must\t1\n",
      "put\t1\n",
      "an\t1\n",
      "end\t1\n",
      "to\t1\n",
      "war\t1\n",
      "or\t1\n",
      "war\t1\n",
      "would\t1\n",
      "end\t1\n",
      "mankind\t1\n",
      "we\t1\n",
      "must\t1\n",
      "choose\t1\n",
      "peace\t1\n",
      "or\t1\n",
      "extinction\t1\n",
      "of\t1\n",
      "our\t1\n",
      "species\t1\n"
     ]
    }
   ],
   "source": [
    "def mapper(input_text):\n",
    "    import re\n",
    "    \n",
    "    # Split the input into lines\n",
    "    lines = input_text.strip().split('\\n')\n",
    "    results = []\n",
    "    \n",
    "    for line in lines:\n",
    "        # Clean and split the line into words\n",
    "        words = re.findall(r'\\b\\w+\\b', line.lower())\n",
    "        \n",
    "        # Output each word with a count of 1\n",
    "        for word in words:\n",
    "            results.append(f'{word}\\t1')\n",
    "    \n",
    "    return results\n",
    "\n",
    "# input\n",
    "input_data = \"\"\"mankind must put an end to war or war would end mankind\n",
    "we must choose peace or extinction of our species\"\"\"\n",
    "\n",
    "mapper_output = mapper(input_data)\n",
    "for output in mapper_output:\n",
    "    print(output)"
   ]
  },
  {
   "cell_type": "code",
   "execution_count": 8,
   "id": "93081036",
   "metadata": {
    "scrolled": true
   },
   "outputs": [
    {
     "name": "stdout",
     "output_type": "stream",
     "text": [
      "mankind\t2\n",
      "must\t2\n",
      "put\t1\n",
      "an\t1\n",
      "end\t2\n",
      "to\t1\n",
      "war\t2\n",
      "or\t2\n",
      "would\t1\n",
      "we\t1\n",
      "choose\t1\n",
      "peace\t1\n",
      "extinction\t1\n",
      "of\t1\n",
      "our\t1\n",
      "species\t1\n"
     ]
    }
   ],
   "source": [
    "def reducer(mapper_output):\n",
    "    from collections import defaultdict\n",
    "    \n",
    "    # Dictionary to store word counts\n",
    "    word_counts = defaultdict(int)\n",
    "    \n",
    "    for line in mapper_output:\n",
    "        word, count = line.split('\\t')\n",
    "        word_counts[word] += int(count)\n",
    "    \n",
    "    # Output the final word counts\n",
    "    results = [f'{word}\\t{count}' for word, count in word_counts.items()]\n",
    "    return results\n",
    "\n",
    "# Example usage\n",
    "reducer_output = reducer(mapper_output)\n",
    "for output in reducer_output:\n",
    "    print(output)"
   ]
  },
  {
   "cell_type": "code",
   "execution_count": null,
   "id": "662daee2",
   "metadata": {},
   "outputs": [],
   "source": []
  },
  {
   "cell_type": "code",
   "execution_count": null,
   "id": "a38ad2f3",
   "metadata": {},
   "outputs": [],
   "source": []
  },
  {
   "cell_type": "markdown",
   "id": "00b2203a",
   "metadata": {},
   "source": [
    "Explanation: Mapper \n",
    "Function Definition:\n",
    "mapper(input_text): This function takes a single string input, which is expected to contain multiple lines of text.\n",
    "\n",
    "Imports:\n",
    "import re: The regular expression module is imported to help with word extraction.\n",
    "\n",
    "Splitting Input into Lines:\n",
    "lines = input_text.strip().split('\\n'): The input text is stripped of leading/trailing whitespace and then split into individual lines based on newline characters.\n",
    "\n",
    "Initializing Results:\n",
    "results = []: An empty list to store the mapper output.\n",
    "\n",
    "Processing Each Line:\n",
    "The for line in lines loop iterates through each line of text.\n",
    "\n",
    "Extracting Words:\n",
    "words = re.findall(r'\\b\\w+\\b', line.lower()): This line uses a regular expression to find all words in the line. It converts the line to lowercase to ensure case insensitivity and captures word-like patterns.\n",
    "\n",
    "Counting Each Word:\n",
    "for word in words: This inner loop goes through each extracted word.\n",
    "results.append(f'{word}\\t1'): For each word, it appends a string formatted as \"word\\t1\" to the results list, indicating that the word has been seen once.\n",
    "\n",
    "Returning Results:\n",
    "return results: After processing all lines, the function returns the list of word counts."
   ]
  },
  {
   "cell_type": "markdown",
   "id": "8881784e",
   "metadata": {},
   "source": [
    "Explanation:\n",
    "Function Definition:\n",
    "reducer(mapper_output): This function takes a list of strings (the output from the mapper).\n",
    "\n",
    "Imports:\n",
    "from collections import defaultdict: This imports defaultdict, which is a dictionary that provides a default value for non-existent keys.\n",
    "\n",
    "Initializing Word Counts:\n",
    "word_counts = defaultdict(int): Initializes a dictionary where each key (word) defaults to an integer value of 0.\n",
    "\n",
    "Processing Mapper Output:\n",
    "for line in mapper_output: Iterates through each line of the mapper's output.\n",
    "word, count = line.split('\\t'): Splits each line into the word and its associated count.\n",
    "\n",
    "Aggregating Counts:\n",
    "word_counts[word] += int(count): Converts the count from string to integer and adds it to the existing count for that word.\n",
    "\n",
    "Preparing Final Output:\n",
    "results = [f'{word}\\t{count}' for word, count in word_counts.items()]: Creates a list of formatted strings for each word and its total count.\n",
    "\n",
    "Returning Results:\n",
    "return results: Finally, the function returns the list of word counts."
   ]
  }
 ],
 "metadata": {
  "kernelspec": {
   "display_name": "Python 3 (ipykernel)",
   "language": "python",
   "name": "python3"
  },
  "language_info": {
   "codemirror_mode": {
    "name": "ipython",
    "version": 3
   },
   "file_extension": ".py",
   "mimetype": "text/x-python",
   "name": "python",
   "nbconvert_exporter": "python",
   "pygments_lexer": "ipython3",
   "version": "3.9.13"
  }
 },
 "nbformat": 4,
 "nbformat_minor": 5
}
